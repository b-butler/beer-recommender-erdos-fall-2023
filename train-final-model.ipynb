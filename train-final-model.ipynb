{
 "cells": [
  {
   "cell_type": "markdown",
   "id": "8fb37b1b-cd55-42f2-adbb-945e44ba8b98",
   "metadata": {},
   "source": [
    "## Train Final Model\n",
    "\n",
    "In this notebook we train the final model which performed best given\n",
    "the chosen metric (recall at k) and save it to disk.\n",
    "\n",
    "### Import necessary tools"
   ]
  },
  {
   "cell_type": "code",
   "execution_count": 6,
   "id": "ee52d2d5-8b14-43b8-b1a2-0d61c124062b",
   "metadata": {},
   "outputs": [],
   "source": [
    "import joblib\n",
    "import lightfm\n",
    "import matplotlib.pyplot as plt\n",
    "import numpy as np\n",
    "import pandas as pd\n",
    "\n",
    "import clean\n",
    "import process\n",
    "import eval\n",
    "\n",
    "OPTIMAL_LIGHTFM = {'no_components': 30, 'loss': 'warp-kos', 'k': 2}\n",
    "OPTIMAL_MATRIX = {'method': 'zero_one', 'threshold': 2.5}"
   ]
  },
  {
   "cell_type": "code",
   "execution_count": 4,
   "id": "4005a4a3-35ba-4d04-a467-8b413c83fcd8",
   "metadata": {},
   "outputs": [],
   "source": [
    "raw_df = pd.read_parquet(\"raw-data.pq\")"
   ]
  },
  {
   "cell_type": "code",
   "execution_count": 5,
   "id": "26500557-4198-43f5-b5b4-c3daf8deef6a",
   "metadata": {},
   "outputs": [],
   "source": [
    "cleaned_df = clean.merge_similar_name_breweries(raw_df)\n",
    "cleaned_df = clean.merge_brewery_ids(cleaned_df)\n",
    "cleaned_df = clean.remove_dup_beer_rows(cleaned_df)\n",
    "cleaned_df = clean.remove_null_rows(cleaned_df)\n",
    "cleaned_df = clean.remove_duplicate_reviews(cleaned_df)"
   ]
  },
  {
   "cell_type": "markdown",
   "id": "dd48fa6c-1c84-4d1e-a686-53271bfbe361",
   "metadata": {},
   "source": [
    "### Processing\n",
    "\n",
    "We now get our training and testing split as well as\n",
    "define functions to help us to optimize over hyperparameters."
   ]
  },
  {
   "cell_type": "code",
   "execution_count": 7,
   "id": "4f99b6c5-b519-45ee-924f-778f5c693bb2",
   "metadata": {},
   "outputs": [],
   "source": [
    "int_matrix_trans = process.InteractionMatrixTransformer(cleaned_df)\n",
    "matrix = int_matrix_trans.fit(**OPTIMAL_MATRIX)"
   ]
  },
  {
   "cell_type": "markdown",
   "id": "51feaa8c-70fd-4bee-bbae-1c11b9e52823",
   "metadata": {},
   "source": [
    "## Train model"
   ]
  },
  {
   "cell_type": "code",
   "execution_count": 8,
   "id": "a7aee509-d231-449f-867f-c6205cd63fd5",
   "metadata": {},
   "outputs": [],
   "source": [
    "estimator = lightfm.LightFM(**OPTIMAL_LIGHTFM)"
   ]
  },
  {
   "cell_type": "code",
   "execution_count": 9,
   "id": "9ab3db30-0576-4c64-bfe8-66a8ad98237c",
   "metadata": {},
   "outputs": [
    {
     "data": {
      "text/plain": [
       "<lightfm.lightfm.LightFM at 0x7fe264acd390>"
      ]
     },
     "execution_count": 9,
     "metadata": {},
     "output_type": "execute_result"
    }
   ],
   "source": [
    "estimator.fit(matrix)"
   ]
  },
  {
   "cell_type": "markdown",
   "id": "89249b6c-603b-4611-8238-e48c2aac9199",
   "metadata": {},
   "source": [
    "## Evaluate and Save Model"
   ]
  },
  {
   "cell_type": "code",
   "execution_count": 10,
   "id": "7944625b-729a-4918-be75-9bd45a11a411",
   "metadata": {},
   "outputs": [
    {
     "name": "stdout",
     "output_type": "stream",
     "text": [
      "Final Recall at k (k=10): 0.626\n"
     ]
    }
   ],
   "source": [
    "k_recall = eval.recall_at_k(estimator, matrix)\n",
    "print(f\"Final Recall at k (k=10): {k_recall:5.3f}\")"
   ]
  },
  {
   "cell_type": "code",
   "execution_count": 11,
   "id": "ea6a6cea-bc1e-441e-9b57-0bc87d6dff35",
   "metadata": {},
   "outputs": [
    {
     "data": {
      "text/plain": [
       "['final-model.joblib']"
      ]
     },
     "execution_count": 11,
     "metadata": {},
     "output_type": "execute_result"
    }
   ],
   "source": [
    "joblib.dump(estimator, \"final-model.joblib\")"
   ]
  },
  {
   "cell_type": "code",
   "execution_count": null,
   "id": "8f2aeadb-86a5-4957-92ee-50649307b511",
   "metadata": {},
   "outputs": [],
   "source": []
  }
 ],
 "metadata": {
  "kernelspec": {
   "display_name": "Python 3 (ipykernel)",
   "language": "python",
   "name": "python3"
  },
  "language_info": {
   "codemirror_mode": {
    "name": "ipython",
    "version": 3
   },
   "file_extension": ".py",
   "mimetype": "text/x-python",
   "name": "python",
   "nbconvert_exporter": "python",
   "pygments_lexer": "ipython3",
   "version": "3.11.5"
  }
 },
 "nbformat": 4,
 "nbformat_minor": 5
}
