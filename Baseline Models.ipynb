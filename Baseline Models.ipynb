{
 "cells": [
  {
   "cell_type": "code",
   "execution_count": 1,
   "metadata": {},
   "outputs": [],
   "source": [
    "import pandas as pd\n",
    "import numpy as np\n",
    "import scipy as sp\n",
    "import clean\n",
    "import process\n",
    "import train_test_split\n",
    "from collections import defaultdict\n",
    "from numpy.random import choice"
   ]
  },
  {
   "cell_type": "markdown",
   "metadata": {},
   "source": [
    "## Read in and clean data"
   ]
  },
  {
   "cell_type": "code",
   "execution_count": 2,
   "metadata": {},
   "outputs": [],
   "source": [
    "reviews = pd.read_parquet('raw-data.pq')\n",
    "reviews.review_time = pd.to_datetime(reviews.review_time,unit = 's')"
   ]
  },
  {
   "cell_type": "code",
   "execution_count": 3,
   "metadata": {},
   "outputs": [],
   "source": [
    "cleaned_df = clean.merge_similar_name_breweries(reviews)\n",
    "cleaned_df = clean.merge_brewery_ids(cleaned_df)\n",
    "cleaned_df = clean.remove_dup_beer_rows(cleaned_df)\n",
    "cleaned_df = clean.remove_null_rows(cleaned_df)\n",
    "cleaned_df = clean.remove_duplicate_reviews(cleaned_df)"
   ]
  },
  {
   "cell_type": "code",
   "execution_count": 4,
   "metadata": {},
   "outputs": [],
   "source": [
    "def get_beers(df):\n",
    "    \"\"\" Input is a data frame of reviews and output is a data frame of unique beers\n",
    "    \"\"\"\n",
    "    return df[['beer_id','brewery_id','beer_style']].drop_duplicates()\n",
    "\n",
    "def assign_popularity(df):\n",
    "    \"\"\" Calculates and adds a popularity column to the data frame of reviews\n",
    "    \"\"\"\n",
    "    if 'popularity' in list(df):\n",
    "        # if we've already added the popularity column, then do nothing\n",
    "        return df\n",
    "    mean_rating = df.groupby('beer_id')['review_overall'].mean()\n",
    "    # normalization puts value counts and ratings on the same scale\n",
    "    max_revs = df.value_counts('beer_id').max()\n",
    "    normalized_counts = df.value_counts('beer_id')/max_revs*5\n",
    "    popularity = mean_rating/2 + normalized_counts/2\n",
    "    popularity.name = 'popularity'\n",
    "    \n",
    "    return df.join(popularity, on='beer_id')\n",
    "\n",
    "def best_beers_by_style(df):\n",
    "    \"\"\" returns a dictionary whose keys are beer styles and whose values are an array of beers of \n",
    "    of that beer style, sorted by popularity in ascending order.\n",
    "    \"\"\"\n",
    "    d = dict()\n",
    "    grouped = df[['beer_style','beer_id','popularity']].drop_duplicates().groupby('beer_style')\n",
    "    for beer_style in grouped.groups:\n",
    "        df = grouped.get_group(beer_style).sort_values('popularity')\n",
    "        d[beer_style] = df.beer_id.values\n",
    "    return d\n",
    "\n",
    "def best_beers_by_brewery(df):\n",
    "    \"\"\" returns a dictionary whose keys are brewery ids and whose values are an array of beers of \n",
    "    of that brewery, sorted by popularity in ascending order.\n",
    "    \"\"\"\n",
    "    d = dict()\n",
    "    grouped = df[['brewery_id','beer_id','popularity']].drop_duplicates().groupby('brewery_id')\n",
    "    for brewery_id in grouped.groups:\n",
    "        df = grouped.get_group(brewery_id).sort_values('popularity')\n",
    "        d[brewery_id] = df.beer_id.values\n",
    "    return d\n",
    "\n",
    "def split_to_dict(split):\n",
    "    \"\"\" Takes in a 2d array with a column of users and a column of beers they like and\n",
    "    converts it to a dictionary where the keys are users and the entries are the lists of beers\n",
    "    they like.\n",
    "    \"\"\"\n",
    "    split = list(split)\n",
    "    d = defaultdict(list)\n",
    "    for review in split:\n",
    "        d[review[0]].append(review[1])\n",
    "    return d"
   ]
  },
  {
   "cell_type": "code",
   "execution_count": null,
   "metadata": {},
   "outputs": [],
   "source": []
  },
  {
   "cell_type": "code",
   "execution_count": 5,
   "metadata": {},
   "outputs": [
    {
     "data": {
      "text/html": [
       "<div>\n",
       "<style scoped>\n",
       "    .dataframe tbody tr th:only-of-type {\n",
       "        vertical-align: middle;\n",
       "    }\n",
       "\n",
       "    .dataframe tbody tr th {\n",
       "        vertical-align: top;\n",
       "    }\n",
       "\n",
       "    .dataframe thead th {\n",
       "        text-align: right;\n",
       "    }\n",
       "</style>\n",
       "<table border=\"1\" class=\"dataframe\">\n",
       "  <thead>\n",
       "    <tr style=\"text-align: right;\">\n",
       "      <th></th>\n",
       "      <th>brewery_id</th>\n",
       "      <th>brewery_name</th>\n",
       "      <th>review_overall</th>\n",
       "      <th>review_profilename</th>\n",
       "      <th>beer_style</th>\n",
       "      <th>beer_name</th>\n",
       "      <th>beer_beerid</th>\n",
       "      <th>reviewer_id</th>\n",
       "      <th>beer_id</th>\n",
       "      <th>popularity</th>\n",
       "    </tr>\n",
       "  </thead>\n",
       "  <tbody>\n",
       "    <tr>\n",
       "      <th>0</th>\n",
       "      <td>10325</td>\n",
       "      <td>Vecchio Birraio</td>\n",
       "      <td>1.5</td>\n",
       "      <td>stcules</td>\n",
       "      <td>Hefeweizen</td>\n",
       "      <td>Sausa Weizen</td>\n",
       "      <td>47986</td>\n",
       "      <td>30546</td>\n",
       "      <td>39207</td>\n",
       "      <td>0.75078</td>\n",
       "    </tr>\n",
       "    <tr>\n",
       "      <th>1</th>\n",
       "      <td>10325</td>\n",
       "      <td>Vecchio Birraio</td>\n",
       "      <td>3.0</td>\n",
       "      <td>stcules</td>\n",
       "      <td>English Strong Ale</td>\n",
       "      <td>Red Moon</td>\n",
       "      <td>48213</td>\n",
       "      <td>30546</td>\n",
       "      <td>39409</td>\n",
       "      <td>1.50078</td>\n",
       "    </tr>\n",
       "    <tr>\n",
       "      <th>2</th>\n",
       "      <td>10325</td>\n",
       "      <td>Vecchio Birraio</td>\n",
       "      <td>3.0</td>\n",
       "      <td>stcules</td>\n",
       "      <td>Foreign / Export Stout</td>\n",
       "      <td>Black Horse Black Beer</td>\n",
       "      <td>48215</td>\n",
       "      <td>30546</td>\n",
       "      <td>39411</td>\n",
       "      <td>1.50078</td>\n",
       "    </tr>\n",
       "    <tr>\n",
       "      <th>3</th>\n",
       "      <td>10325</td>\n",
       "      <td>Vecchio Birraio</td>\n",
       "      <td>3.0</td>\n",
       "      <td>stcules</td>\n",
       "      <td>German Pilsener</td>\n",
       "      <td>Sausa Pils</td>\n",
       "      <td>47969</td>\n",
       "      <td>30546</td>\n",
       "      <td>39192</td>\n",
       "      <td>1.50078</td>\n",
       "    </tr>\n",
       "    <tr>\n",
       "      <th>4</th>\n",
       "      <td>1075</td>\n",
       "      <td>Caldera Brewing Company</td>\n",
       "      <td>4.0</td>\n",
       "      <td>johnmichaelsen</td>\n",
       "      <td>American Double / Imperial IPA</td>\n",
       "      <td>Cauldron DIPA</td>\n",
       "      <td>64883</td>\n",
       "      <td>22994</td>\n",
       "      <td>53857</td>\n",
       "      <td>2.00078</td>\n",
       "    </tr>\n",
       "  </tbody>\n",
       "</table>\n",
       "</div>"
      ],
      "text/plain": [
       "   brewery_id             brewery_name  review_overall review_profilename  \\\n",
       "0       10325          Vecchio Birraio             1.5            stcules   \n",
       "1       10325          Vecchio Birraio             3.0            stcules   \n",
       "2       10325          Vecchio Birraio             3.0            stcules   \n",
       "3       10325          Vecchio Birraio             3.0            stcules   \n",
       "4        1075  Caldera Brewing Company             4.0     johnmichaelsen   \n",
       "\n",
       "                       beer_style               beer_name  beer_beerid  \\\n",
       "0                      Hefeweizen            Sausa Weizen        47986   \n",
       "1              English Strong Ale                Red Moon        48213   \n",
       "2          Foreign / Export Stout  Black Horse Black Beer        48215   \n",
       "3                 German Pilsener              Sausa Pils        47969   \n",
       "4  American Double / Imperial IPA           Cauldron DIPA        64883   \n",
       "\n",
       "   reviewer_id  beer_id  popularity  \n",
       "0        30546    39207     0.75078  \n",
       "1        30546    39409     1.50078  \n",
       "2        30546    39411     1.50078  \n",
       "3        30546    39192     1.50078  \n",
       "4        22994    53857     2.00078  "
      ]
     },
     "execution_count": 5,
     "metadata": {},
     "output_type": "execute_result"
    }
   ],
   "source": [
    "cleaned_df['reviewer_id'] = cleaned_df[\"review_profilename\"].astype('category').cat.codes\n",
    "cleaned_df['beer_id'] = cleaned_df[\"beer_beerid\"].astype(\"category\").cat.codes\n",
    "\n",
    "cleaned_df = cleaned_df.drop(['review_aroma','review_appearance','review_time','review_palate',\n",
    "                        'review_taste','beer_abv'], axis=1)\n",
    "cleaned_df = assign_popularity(cleaned_df)\n",
    "cleaned_df.popularity.max()\n",
    "cleaned_df.head()"
   ]
  },
  {
   "cell_type": "code",
   "execution_count": 6,
   "metadata": {},
   "outputs": [],
   "source": [
    "int_matrix_trans = process.InteractionMatrixTransformer(cleaned_df)\n",
    "int_matrix = int_matrix_trans.to_zero_one()"
   ]
  },
  {
   "cell_type": "code",
   "execution_count": 7,
   "metadata": {},
   "outputs": [],
   "source": [
    "splits = train_test_split.get_splits(int_matrix)"
   ]
  },
  {
   "cell_type": "markdown",
   "metadata": {},
   "source": [
    "## Baseline model: Favorite beer styles"
   ]
  },
  {
   "cell_type": "code",
   "execution_count": 8,
   "metadata": {},
   "outputs": [],
   "source": [
    "np.random.seed(1111)"
   ]
  },
  {
   "cell_type": "code",
   "execution_count": 9,
   "metadata": {},
   "outputs": [],
   "source": [
    "k = 10\n",
    "beers = get_beers(cleaned_df)\n",
    "pop_beers_by_style = best_beers_by_style(cleaned_df)\n",
    "avg_recall_style = np.zeros(5)\n",
    "\n",
    "for i in range(5):\n",
    "    train, test = splits[i][0], splits[i][1]\n",
    "    train = split_to_dict(train)\n",
    "    test = split_to_dict(test)\n",
    "\n",
    "    recalls = np.array([])\n",
    "    weights = np.array([])\n",
    "    #for each user in the test set, want to know how many of each beer type/brewery they reviewed\n",
    "    # then want to sample from them accordingly\n",
    "    counter = 0\n",
    "    for user in test:\n",
    "        recs = []\n",
    "        d = defaultdict(int)\n",
    "        #train[user] is the list of beer_ids they reviewed\n",
    "        # for each beer_id in user, locate it in beers and\n",
    "        # how to sample from \n",
    "        for beer_id in train[user]:\n",
    "            d[beers.loc[beers.beer_id == beer_id, 'beer_style'].values[0]] += 1\n",
    "        draw = list(choice(list(d.keys()),10, list(d.values())))\n",
    "        draw = {a:draw.count(a) for a in draw}\n",
    "        for beer_type in draw:\n",
    "            beer_list = list(pop_beers_by_style[beer_type].copy())\n",
    "            i = 0\n",
    "            while i < draw[beer_type]:\n",
    "                beer_id = beer_list.pop()\n",
    "                if beer_id in train[user]:\n",
    "                    continue # if we already know the user likes this beer, then skip it and draw another\n",
    "                recs.append(beer_id)\n",
    "                i+=1\n",
    "        recs_set = set(recs)\n",
    "        test_set = set(test[user])\n",
    "        num_hits = len(recs_set.intersection(test_set))\n",
    "        # append the recall at k value and the weight (i.e. how many liked beers in the test set)\n",
    "        recalls = np.append(recalls,num_hits/min(k,len(test[user])))\n",
    "        weights = np.append(weights, len(test[user]))\n",
    "    avg_recall_style[i] = (recalls*weights/sum(weights)).sum()      "
   ]
  },
  {
   "cell_type": "code",
   "execution_count": 10,
   "metadata": {},
   "outputs": [
    {
     "data": {
      "text/plain": [
       "array([0.        , 0.06790987, 0.07066503, 0.07314833, 0.        ])"
      ]
     },
     "execution_count": 10,
     "metadata": {},
     "output_type": "execute_result"
    }
   ],
   "source": [
    "avg_recall_style"
   ]
  },
  {
   "cell_type": "markdown",
   "metadata": {},
   "source": [
    "## Baseline Model: Favorite Breweries"
   ]
  },
  {
   "cell_type": "code",
   "execution_count": 11,
   "metadata": {},
   "outputs": [],
   "source": [
    "k = 10\n",
    "beers = get_beers(cleaned_df)\n",
    "pop_beers_by_brewery = best_beers_by_brewery(cleaned_df)\n",
    "avg_recall_brewery = np.zeros(5)\n",
    "\n",
    "for i in range(5):\n",
    "    train, test = splits[i][0], splits[i][1]\n",
    "    train = split_to_dict(train)\n",
    "    test = split_to_dict(test)\n",
    "\n",
    "    recalls = []\n",
    "    weights = []\n",
    "\n",
    "    #for each user in the test set, want to know how many of each beer type/brewery they reviewed\n",
    "    # then want to sample from them accordingly\n",
    "    counter = 0\n",
    "    for user in test:\n",
    "        recs = []\n",
    "        d = defaultdict(int)\n",
    "        #train[user] is the list of beer_ids they reviewed\n",
    "        # for each beer_id in user, locate it in beers and\n",
    "        # how to sample from \n",
    "        for beer_id in train[user]:\n",
    "            d[beers.loc[beers.beer_id == beer_id, 'brewery_id'].values[0]] += 1\n",
    "        draw = list(choice(list(d.keys()),50, list(d.values())))\n",
    "        pop_beers_copy = dict()\n",
    "        draw_counts = {a:draw.count(a) for a in draw}\n",
    "        for brewery_id in draw_counts:\n",
    "            pop_beers_copy[brewery_id] = list(pop_beers_by_brewery[brewery_id]).copy()\n",
    "        for brewery_id in draw:\n",
    "            if len(pop_beers_copy[brewery_id]) > 0:\n",
    "                beer_id = pop_beers_copy[brewery_id].pop()\n",
    "                while beer_id in train[user] and len(pop_beers_copy[brewery_id])>0:\n",
    "                    beer_id = pop_beers_copy[brewery_id].pop() # if we already know the user likes this beer, then skip it and draw another\n",
    "                if beer_id not in train[user]:\n",
    "                    recs.append(beer_id)\n",
    "                    if len(recs) == 10:\n",
    "                        break\n",
    "        recs_set = set(recs)\n",
    "        test_set = set(test[user])\n",
    "        num_hits = len(recs_set.intersection(test_set))\n",
    "        # append the recall at k value and the weight (i.e. how many liked beers in the test set)\n",
    "        recalls.append(num_hits/min(k,len(test[user])))\n",
    "        weights.append(len(test[user]))\n",
    "    recalls = np.array(recalls)\n",
    "    weights = np.array(weights)\n",
    "    avg_recall_brewery[i] = (recalls*weights/sum(weights)).sum()"
   ]
  },
  {
   "cell_type": "code",
   "execution_count": 12,
   "metadata": {},
   "outputs": [
    {
     "data": {
      "text/plain": [
       "array([0.04684636, 0.04918675, 0.04835255, 0.04808402, 0.04899598])"
      ]
     },
     "execution_count": 12,
     "metadata": {},
     "output_type": "execute_result"
    }
   ],
   "source": [
    "avg_recall_brewery"
   ]
  }
 ],
 "metadata": {
  "kernelspec": {
   "display_name": "Python 3",
   "language": "python",
   "name": "python3"
  },
  "language_info": {
   "codemirror_mode": {
    "name": "ipython",
    "version": 3
   },
   "file_extension": ".py",
   "mimetype": "text/x-python",
   "name": "python",
   "nbconvert_exporter": "python",
   "pygments_lexer": "ipython3",
   "version": "3.8.5"
  }
 },
 "nbformat": 4,
 "nbformat_minor": 4
}
