{
 "cells": [
  {
   "cell_type": "markdown",
   "id": "1eba9ec1-db3e-4089-a7ee-f930e04509f7",
   "metadata": {},
   "source": [
    "# Model Training and Evalution\n",
    "\n",
    "## LightFM Model\n",
    "\n",
    "`lightfm` is an advanced matrix factorization library for\n",
    "recommender systems. We are using it for its logistic loss\n",
    "feature which has good performance on $[-1, 1]$ interaction\n",
    "matrices."
   ]
  },
  {
   "cell_type": "code",
   "execution_count": 1,
   "id": "d3952ca9-839d-4818-9b1f-118d845bd681",
   "metadata": {},
   "outputs": [],
   "source": [
    "import copy\n",
    "import itertools\n",
    "\n",
    "import joblib\n",
    "import lightfm\n",
    "import lightfm.evaluation\n",
    "import matplotlib.pyplot as plt\n",
    "import numpy as np\n",
    "import pandas as pd\n",
    "import scipy as sp\n",
    "import sklearn as sk\n",
    "import sklearn.model_selection\n",
    "\n",
    "import clean\n",
    "import process"
   ]
  },
  {
   "cell_type": "markdown",
   "id": "76d2bf4c-30c2-4d41-9f7d-ecbfdfdbb68a",
   "metadata": {},
   "source": [
    "### Cleaning\n",
    "\n",
    "Here we remove duplicate reviews, merge identical breweries,\n",
    "and other clean up operations before getting the final\n",
    "interaction matrix."
   ]
  },
  {
   "cell_type": "code",
   "execution_count": 2,
   "id": "9816e6e9-4a0b-4906-8538-ccff140ba3cc",
   "metadata": {},
   "outputs": [],
   "source": [
    "raw_df = pd.read_parquet(\"raw-data.pq\")"
   ]
  },
  {
   "cell_type": "code",
   "execution_count": 3,
   "id": "734011e5-1895-4509-a396-f9938b39d22a",
   "metadata": {},
   "outputs": [],
   "source": [
    "cleaned_df = clean.merge_similar_name_breweries(raw_df)\n",
    "cleaned_df = clean.merge_brewery_ids(cleaned_df)\n",
    "cleaned_df = clean.remove_dup_beer_rows(cleaned_df)\n",
    "cleaned_df = clean.remove_null_rows(cleaned_df)\n",
    "cleaned_df = clean.remove_duplicate_reviews(cleaned_df)"
   ]
  },
  {
   "cell_type": "markdown",
   "id": "0be040b6-d895-4d4e-8928-0f2f76594c7f",
   "metadata": {},
   "source": [
    "### Processing\n",
    "\n",
    "We now get our training and testing split as well as\n",
    "define functions to help us to optimize over hyperparameters."
   ]
  },
  {
   "cell_type": "code",
   "execution_count": 4,
   "id": "e09aeba3-7561-412e-97d9-e17fc1518cc4",
   "metadata": {},
   "outputs": [],
   "source": [
    "int_matrix_trans = process.InteractionMatrixTransformer(cleaned_df)\n",
    "# TODO: create pipeline that allows optimization of the creation\n",
    "# of the interaction matrix.\n",
    "matrix = int_matrix_trans.to_positive_negative(threshold=3.0)"
   ]
  },
  {
   "cell_type": "code",
   "execution_count": 5,
   "id": "b0d7b3ee-71dd-445f-be28-7255174e77d5",
   "metadata": {},
   "outputs": [
    {
     "name": "stdout",
     "output_type": "stream",
     "text": [
      "(-1): 119,565 (1): 1,446,939\n"
     ]
    }
   ],
   "source": [
    "a = np.unique(matrix.data, return_counts=True)\n",
    "print(*(f\"({value}): {count:,}\" for value, count in zip(*a)))"
   ]
  },
  {
   "cell_type": "code",
   "execution_count": 11,
   "id": "e78c6d6c-62a6-4cd6-b997-d061e7dc4762",
   "metadata": {},
   "outputs": [],
   "source": [
    "def coo_submatrix(arr, i):\n",
    "    return sp.sparse.coo_matrix(\n",
    "        (arr.data[i], (arr.row[i], arr.col[i])),\n",
    "        shape=arr.shape)\n",
    "    \n",
    "def score_model(estimator, X, X_train):\n",
    "    \"\"\"Get the negative MSE.\"\"\"\n",
    "    \n",
    "    positive_X = coo_submatrix(X, X.data == 1)\n",
    "    return lightfm.evaluation.recall_at_k(\n",
    "        estimator, positive_X, X_train)\n",
    "\n",
    "def validation_splits(interaction_matrix, k=5):\n",
    "    \"\"\"TODO: Add logic to yield train, validation splits.\"\"\"\n",
    "    kfold =  sk.model_selection.StratifiedKFold(k)\n",
    "    yield from kfold.split(interaction_matrix, interaction_matrix.data)\n",
    "\n",
    "def grid_iter(grid_spec):\n",
    "    for values in itertools.product(*grid_spec.values()):\n",
    "        yield dict(zip(grid_spec.keys(), values))\n",
    "\n",
    "def _validate_one(estimator, train, validate, param, scoring):\n",
    "    estimator.set_params(**param)\n",
    "    scores = []\n",
    "    for train_int, validate_int in zip(train, validate):\n",
    "        estimator.fit(train_int)\n",
    "        scores.append(\n",
    "            np.mean(scoring(estimator, validate_int, train_int)))\n",
    "    return np.mean(scores), param\n",
    "    \n",
    "def cross_validate(estimator, X, parameters, scoring, splits):\n",
    "    models = []\n",
    "    best_score = None\n",
    "    splitter = sk.model_selection.StratifiedKFold(splits, shuffle=False)\n",
    "    train_matrices = []\n",
    "    validate_matrices = []\n",
    "\n",
    "    for train, validate in splitter.split(X.data, X.data):\n",
    "        train_matrices.append(coo_submatrix(X, train))\n",
    "        validate_matrices.append(coo_submatrix(X, validate))\n",
    "\n",
    "    return joblib.Parallel(n_jobs=-1, mmap_mode='c')(\n",
    "        joblib.delayed(_validate_one)(\n",
    "            estimator, train_matrices, validate_matrices, param, scoring)\n",
    "        for param in grid_iter(parameters)\n",
    "    )"
   ]
  },
  {
   "cell_type": "code",
   "execution_count": 7,
   "id": "bf33d7f4-c9ed-4031-b056-91a3d26bb5f4",
   "metadata": {},
   "outputs": [],
   "source": [
    "params = {\"no_components\": np.arange(1, 31, 1)}\n",
    "splits = 5\n",
    "estimator = lightfm.LightFM()"
   ]
  },
  {
   "cell_type": "markdown",
   "id": "0b36de1e-93d4-46f5-af1d-6fba626bd9f9",
   "metadata": {},
   "source": [
    "### Fit and Evaluate\n",
    "\n",
    "We fit our model and evaluate its performance."
   ]
  },
  {
   "cell_type": "code",
   "execution_count": 12,
   "id": "e7f0901c-99de-40a2-ad18-7c300487beab",
   "metadata": {},
   "outputs": [
    {
     "name": "stdout",
     "output_type": "stream",
     "text": [
      "Best Model Recall (k=10): 0.012387488305397156 Best Model Parameters: {'no_components': 1}\n"
     ]
    }
   ],
   "source": [
    "scores_and_params = cross_validate(\n",
    "  estimator, matrix, params, score_model, splits)\n",
    "best_score, best_params = max(scores_and_params, key=lambda x: x[0])\n",
    "print(\n",
    "    f\"Best Model Recall (k=10): {best_score}\",\n",
    "    f\"Best Model Parameters: {best_params}\"\n",
    ")"
   ]
  },
  {
   "cell_type": "code",
   "execution_count": 13,
   "id": "dee1205a-88f0-4415-95b3-5fb9a6d4b0c8",
   "metadata": {},
   "outputs": [
    {
     "ename": "SyntaxError",
     "evalue": "f-string: closing parenthesis '}' does not match opening parenthesis '(' (1940272134.py, line 3)",
     "output_type": "error",
     "traceback": [
      "\u001b[0;36m  Cell \u001b[0;32mIn[13], line 3\u001b[0;36m\u001b[0m\n\u001b[0;31m    print(f\"Refit Model RMSE: {np.sqrt(-score_model(estimator, matrix, sp.sparse.coo_matrix(shape=matrix.shape))}\")\u001b[0m\n\u001b[0m          ^\u001b[0m\n\u001b[0;31mSyntaxError\u001b[0m\u001b[0;31m:\u001b[0m f-string: closing parenthesis '}' does not match opening parenthesis '('\n"
     ]
    }
   ],
   "source": [
    "estimator.set_params(**best_params)\n",
    "estimator.fit(matrix)\n",
    "print(f\"Refit Model RMSE: {np.sqrt(-score_model(estimator, matrix, sp.sparse.coo_matrix(shape=matrix.shape))}\")"
   ]
  },
  {
   "cell_type": "code",
   "execution_count": null,
   "id": "78bd74c6-48c8-4772-bdc2-42fd8de225d5",
   "metadata": {},
   "outputs": [],
   "source": [
    "predict_int = estimator.predict(matrix.row, matrix.col)\n",
    "residuals = matrix.data - predict_int"
   ]
  },
  {
   "cell_type": "code",
   "execution_count": 21,
   "id": "5847c597-4d3c-4c04-981a-e9feb4b27833",
   "metadata": {},
   "outputs": [
    {
     "data": {
      "image/png": "[encoded data removed]",
      "text/plain": [
       "<Figure size 640x480 with 1 Axes>"
      ]
     },
     "metadata": {},
     "output_type": "display_data"
    }
   ],
   "source": [
    "fig, ax = plt.subplots()\n",
    "ax.hist(residuals, bins=100);"
   ]
  },
  {
   "cell_type": "code",
   "execution_count": 24,
   "id": "c57dcade-7e45-48b4-beb5-e71404756b50",
   "metadata": {},
   "outputs": [
    {
     "data": {
      "image/png": "[encoded data removed]",
      "text/plain": [
       "<Figure size 640x480 with 1 Axes>"
      ]
     },
     "metadata": {},
     "output_type": "display_data"
    }
   ],
   "source": [
    "fig, ax = plt.subplots()\n",
    "ax.hist(predict_int, bins=100);"
   ]
  },
  {
   "cell_type": "code",
   "execution_count": 22,
   "id": "d3ec52d0-f7c4-4266-b9fa-119e97e98de6",
   "metadata": {},
   "outputs": [
    {
     "name": "stdout",
     "output_type": "stream",
     "text": [
      "(30546, 39207) \tPredicted: 0.554, Actual: -1.0\n",
      "(30546, 39409) \tPredicted: 0.605, Actual: 1.0\n",
      "(30546, 39411) \tPredicted: 0.606, Actual: 1.0\n",
      "(30546, 39192) \tPredicted: 0.605, Actual: 1.0\n",
      "(22994, 53857) \tPredicted: 1.969, Actual: 1.0\n",
      "(27127, 42845) \tPredicted: 1.211, Actual: 1.0\n",
      "(10190, 42845) \tPredicted: 1.593, Actual: 1.0\n",
      "(13931, 42845) \tPredicted: 1.372, Actual: 1.0\n",
      "(7681, 42845) \tPredicted: 1.252, Actual: 1.0\n",
      "(14363, 42845) \tPredicted: 1.772, Actual: 1.0\n",
      "(20023, 391) \tPredicted: 0.062, Actual: 1.0\n",
      "(7936, 42845) \tPredicted: 0.432, Actual: 1.0\n",
      "(28360, 42845) \tPredicted: 0.449, Actual: 1.0\n",
      "(5451, 42845) \tPredicted: 2.013, Actual: 1.0\n",
      "(10086, 42845) \tPredicted: 0.162, Actual: 1.0\n",
      "(1433, 8848) \tPredicted: 0.866, Actual: 1.0\n",
      "(10153, 8848) \tPredicted: 1.189, Actual: -1.0\n",
      "(14918, 9977) \tPredicted: 1.443, Actual: 1.0\n",
      "(22330, 391) \tPredicted: 0.855, Actual: -1.0\n",
      "(12714, 47943) \tPredicted: 1.598, Actual: 1.0\n"
     ]
    }
   ],
   "source": [
    "for i in range(20):\n",
    "    print(f\"({matrix.row[i]}, {matrix.col[i]}) \\tPredicted: {predict_int[i]:5.3f}, Actual: {matrix.data[i]}\")"
   ]
  }
 ],
 "metadata": {
  "kernelspec": {
   "display_name": "Python 3 (ipykernel)",
   "language": "python",
   "name": "python3"
  },
  "language_info": {
   "codemirror_mode": {
    "name": "ipython",
    "version": 3
   },
   "file_extension": ".py",
   "mimetype": "text/x-python",
   "name": "python",
   "nbconvert_exporter": "python",
   "pygments_lexer": "ipython3",
   "version": "3.8.18"
  }
 },
 "nbformat": 4,
 "nbformat_minor": 5
}
