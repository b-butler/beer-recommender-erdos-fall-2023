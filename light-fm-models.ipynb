{
 "cells": [
  {
   "cell_type": "markdown",
   "id": "893f8a6a",
   "metadata": {},
   "source": [
    "# Model Training and Evalution\n",
    "\n",
    "## LightFM Model\n",
    "\n",
    "`lightfm` is an advanced matrix factorization library for\n",
    "recommender systems. We are using it for its logistic loss\n",
    "feature which has good performance on $[-1, 1]$ interaction\n",
    "matrices."
   ]
  },
  {
   "cell_type": "code",
   "execution_count": 1,
   "id": "126b1da3",
   "metadata": {},
   "outputs": [],
   "source": [
    "import copy\n",
    "import itertools\n",
    "from pathlib import Path\n",
    "\n",
    "import joblib\n",
    "import lightfm\n",
    "import lightfm.evaluation\n",
    "import matplotlib.pyplot as plt\n",
    "import numpy as np\n",
    "import pandas as pd\n",
    "import scipy as sp\n",
    "import sklearn as sk\n",
    "import sklearn.model_selection\n",
    "\n",
    "import clean\n",
    "import eval\n",
    "import process\n",
    "import train_test_split\n",
    "\n",
    "N_THREADS = 16"
   ]
  },
  {
   "cell_type": "code",
   "execution_count": 12,
   "id": "15bd9d7e-8cc6-4af8-b6b2-d26354ff5b9d",
   "metadata": {},
   "outputs": [
    {
     "data": {
      "text/plain": [
       "'1.8.0'"
      ]
     },
     "execution_count": 12,
     "metadata": {},
     "output_type": "execute_result"
    }
   ],
   "source": [
    "sp.__version__"
   ]
  },
  {
   "cell_type": "markdown",
   "id": "9e7f4b47",
   "metadata": {},
   "source": [
    "### Cleaning\n",
    "\n",
    "Here we remove duplicate reviews, merge identical breweries,\n",
    "and other clean up operations before getting the final\n",
    "interaction matrix."
   ]
  },
  {
   "cell_type": "code",
   "execution_count": 2,
   "id": "a935fcca",
   "metadata": {},
   "outputs": [],
   "source": [
    "raw_df = pd.read_parquet(\"raw-data.pq\")"
   ]
  },
  {
   "cell_type": "code",
   "execution_count": 3,
   "id": "4827d86a",
   "metadata": {},
   "outputs": [],
   "source": [
    "cleaned_df = clean.merge_similar_name_breweries(raw_df)\n",
    "cleaned_df = clean.merge_brewery_ids(cleaned_df)\n",
    "cleaned_df = clean.remove_dup_beer_rows(cleaned_df)\n",
    "cleaned_df = clean.remove_null_rows(cleaned_df)\n",
    "cleaned_df = clean.remove_duplicate_reviews(cleaned_df)"
   ]
  },
  {
   "cell_type": "markdown",
   "id": "67a2070c",
   "metadata": {},
   "source": [
    "### Processing\n",
    "\n",
    "We now get our training and testing split as well as\n",
    "define functions to help us to optimize over hyperparameters."
   ]
  },
  {
   "cell_type": "code",
   "execution_count": 4,
   "id": "74d3fc5c",
   "metadata": {},
   "outputs": [],
   "source": [
    "int_matrix_trans = process.InteractionMatrixTransformer(cleaned_df)\n",
    "# TODO: create pipeline that allows optimization of the creation\n",
    "# of the interaction matrix.\n",
    "matrix = int_matrix_trans.to_positive_negative(threshold=3.0)"
   ]
  },
  {
   "cell_type": "code",
   "execution_count": 5,
   "id": "f09db502",
   "metadata": {},
   "outputs": [],
   "source": [
    "splits = train_test_split.get_splits(matrix, 4565456)"
   ]
  },
  {
   "cell_type": "code",
   "execution_count": 6,
   "id": "23840ba3",
   "metadata": {},
   "outputs": [
    {
     "name": "stdout",
     "output_type": "stream",
     "text": [
      "(-1): 119,565 (1): 1,446,939\n"
     ]
    }
   ],
   "source": [
    "a = np.unique(matrix.data, return_counts=True)\n",
    "print(*(f\"({value}): {count:,}\" for value, count in zip(*a)))"
   ]
  },
  {
   "cell_type": "code",
   "execution_count": 7,
   "id": "dd90c1e4",
   "metadata": {},
   "outputs": [],
   "source": [
    "def coo_submatrix(arr, i):\n",
    "    return sp.sparse.coo_matrix(\n",
    "        (arr.data[i], (arr.row[i], arr.col[i])), shape=arr.shape\n",
    "    )\n",
    "\n",
    "\n",
    "def score_model(estimator, X, X_train=None):\n",
    "    \"\"\"Get the negative MSE.\"\"\"\n",
    "\n",
    "    positive_X = coo_submatrix(X, X.data == 1)\n",
    "    return eval.recall_at_k(estimator, positive_X, X_train)\n",
    "\n",
    "\n",
    "def apply_split(matrix, split):\n",
    "    data = np.asarray(matrix[split[:, 0], split[:, 1]]).squeeze()\n",
    "    return sp.sparse.coo_matrix((data, (split[:, 0], split[:, 1])), shape=matrix.shape)\n",
    "\n",
    "\n",
    "def grid_iter(grid_spec):\n",
    "    for values in itertools.product(*grid_spec.values()):\n",
    "        yield dict(zip(grid_spec.keys(), values))\n",
    "\n",
    "\n",
    "def _validate_one(estimator, matrix_gen, splits, param, matrix_param):\n",
    "    estimator.set_params(**param)\n",
    "    X = matrix_gen.fit(**matrix_param)\n",
    "    scores = []\n",
    "    for train, validate in splits:\n",
    "        train_matrix = apply_split(X, train)\n",
    "        estimator.fit(train_matrix, num_threads=2)\n",
    "        score = score_model(estimator, apply_split(X, validate), train_matrix)\n",
    "        scores.append(score)\n",
    "    return {**param, **matrix_param}, np.mean(scores)\n",
    "\n",
    "\n",
    "def cross_validate(estimator, matrix_gen, parameters, matrix_parameters, splits):\n",
    "    models = []\n",
    "    scores = []\n",
    "\n",
    "    parallel = joblib.Parallel(n_jobs=N_THREADS, mmap_mode=\"c\")\n",
    "    results = parallel(\n",
    "        joblib.delayed(_validate_one)(estimator, matrix_gen, splits, param, mparam)\n",
    "        for param in grid_iter(parameters)\n",
    "        for mparam in grid_iter(matrix_parameters)\n",
    "    )\n",
    "    for model, score in results:\n",
    "        models.append(model)\n",
    "        scores.append(score)\n",
    "    return scores, models\n",
    "\n",
    "\n",
    "def save_model(filename, scores, parameters):\n",
    "    with open(filename, \"w\") as fh:\n",
    "        for score, param in zip(scores, parameters):\n",
    "            fh.write(f\"{score}: {str(param)}\\n\")"
   ]
  },
  {
   "cell_type": "markdown",
   "id": "cf7a7422",
   "metadata": {},
   "source": [
    "### Fit and Evaluate\n",
    "\n",
    "We fit our model and evaluate its performance.\n",
    "\n",
    "### Logistic loss\n",
    "\n",
    "First we check the performance of the logistic loss."
   ]
  },
  {
   "cell_type": "code",
   "execution_count": 8,
   "id": "dea6c40c",
   "metadata": {},
   "outputs": [],
   "source": [
    "params = {\"no_components\": np.arange(30, 80, 5)}\n",
    "matrix_params = {\"method\": [\"positive_negative\"], \"threshold\": [2.5, 3.0]}\n",
    "estimator = lightfm.LightFM()"
   ]
  },
  {
   "cell_type": "code",
   "execution_count": 9,
   "id": "4ecaffb2",
   "metadata": {},
   "outputs": [],
   "source": [
    "fn = \"new_logistic.data\"\n",
    "if not Path(fn).exists():\n",
    "    scores, models = cross_validate(\n",
    "        estimator, int_matrix_trans, params, matrix_params, splits\n",
    "    )\n",
    "    save_model(fn, scores, models)"
   ]
  },
  {
   "cell_type": "markdown",
   "id": "96fa5b6a",
   "metadata": {},
   "source": [
    "### Look at $k$OS-WARP loss\n",
    "\n",
    "Check the performance of the $k$OS-WARP loss."
   ]
  },
  {
   "cell_type": "code",
   "execution_count": 10,
   "id": "007bd641",
   "metadata": {},
   "outputs": [],
   "source": [
    "params = {\n",
    "    \"no_components\": np.arange(10, 31, 2),\n",
    "    \"loss\": [\"warp-kos\"],\n",
    "    \"k\": [1, 2, 3, 4, 5],\n",
    "}\n",
    "matrix_params = {\"method\": [\"zero_one\"], \"threshold\": [1.5, 2.0, 2.5, 3.0]}"
   ]
  },
  {
   "cell_type": "code",
   "execution_count": 11,
   "id": "6807e6ec",
   "metadata": {},
   "outputs": [],
   "source": [
    "fn = \"new_warp-kos.data\"\n",
    "if not Path(fn).exists():\n",
    "    scores, models = cross_validate(\n",
    "        estimator, int_matrix_trans, params, matrix_params, splits\n",
    "    )\n",
    "    save_model(fn, scores, models)"
   ]
  },
  {
   "cell_type": "code",
   "execution_count": null,
   "id": "0aea37a8",
   "metadata": {},
   "outputs": [],
   "source": []
  }
 ],
 "metadata": {
  "kernelspec": {
   "display_name": "Python 3 (ipykernel)",
   "language": "python",
   "name": "python3"
  },
  "language_info": {
   "codemirror_mode": {
    "name": "ipython",
    "version": 3
   },
   "file_extension": ".py",
   "mimetype": "text/x-python",
   "name": "python",
   "nbconvert_exporter": "python",
   "pygments_lexer": "ipython3",
   "version": "3.10.12"
  }
 },
 "nbformat": 4,
 "nbformat_minor": 5
}
